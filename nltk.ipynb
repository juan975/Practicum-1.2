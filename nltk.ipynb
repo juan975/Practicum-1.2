{
 "cells": [
  {
   "cell_type": "code",
   "execution_count": 1,
   "id": "9bf01188-62ae-4a1f-b941-d6dd0f1dbffc",
   "metadata": {},
   "outputs": [],
   "source": [
    "import nltk"
   ]
  },
  {
   "cell_type": "code",
   "execution_count": 2,
   "id": "5c0bc8d3-4ee2-43c6-83f2-1b9e73a4ea63",
   "metadata": {},
   "outputs": [
    {
     "name": "stdout",
     "output_type": "stream",
     "text": [
      "showing info https://raw.githubusercontent.com/nltk/nltk_data/gh-pages/index.xml\n"
     ]
    },
    {
     "data": {
      "text/plain": [
       "True"
      ]
     },
     "execution_count": 2,
     "metadata": {},
     "output_type": "execute_result"
    }
   ],
   "source": [
    "nltk.download()"
   ]
  },
  {
   "cell_type": "code",
   "execution_count": 3,
   "id": "f307e75a-36a8-411e-88fa-cca69837036e",
   "metadata": {},
   "outputs": [],
   "source": [
    "text = \"Eyes without a face. The Four Horsemen. The Queen is dead.\""
   ]
  },
  {
   "cell_type": "code",
   "execution_count": 4,
   "id": "273c7502-1710-43c5-b8df-4fcf9f2a9e26",
   "metadata": {},
   "outputs": [],
   "source": [
    "from nltk.tokenize import word_tokenize"
   ]
  },
  {
   "cell_type": "code",
   "execution_count": 5,
   "id": "884947e0-6639-45de-8d92-157b5106b6de",
   "metadata": {},
   "outputs": [
    {
     "name": "stdout",
     "output_type": "stream",
     "text": [
      "['Eyes', 'without', 'a', 'face', '.', 'The', 'Four', 'Horsemen', '.', 'The', 'Queen', 'is', 'dead', '.']\n"
     ]
    }
   ],
   "source": [
    "print(word_tokenize(text))"
   ]
  },
  {
   "cell_type": "code",
   "execution_count": 6,
   "id": "4f8afc1f-2de9-4ea0-9f2d-ae8d9e56c634",
   "metadata": {},
   "outputs": [],
   "source": [
    "from nltk.tokenize import sent_tokenize"
   ]
  },
  {
   "cell_type": "code",
   "execution_count": 7,
   "id": "f7437ac0-7b2c-4eb6-8b42-c7157383bc7f",
   "metadata": {},
   "outputs": [
    {
     "name": "stdout",
     "output_type": "stream",
     "text": [
      "['Eyes without a face.', 'The Four Horsemen.', 'The Queen is dead.']\n"
     ]
    }
   ],
   "source": [
    "print(sent_tokenize(text))"
   ]
  },
  {
   "cell_type": "code",
   "execution_count": 11,
   "id": "d9e2d7c3-e6eb-465e-9f33-c22eefdc40c7",
   "metadata": {},
   "outputs": [],
   "source": [
    "from nltk.probability import FreqDist\n",
    "from nltk import FreqDist\n",
    "from nltk.tokenize import word_tokenize"
   ]
  },
  {
   "cell_type": "code",
   "execution_count": 18,
   "id": "75e8ec9f-2747-4962-ae8f-42de3db8d9c8",
   "metadata": {},
   "outputs": [],
   "source": [
    "word_tokenized = word_tokenize(text)\n",
    "fq = FreqDist(word_tokenized)"
   ]
  },
  {
   "cell_type": "code",
   "execution_count": 20,
   "id": "15608215-f437-4215-9e02-161ba40376e9",
   "metadata": {},
   "outputs": [
    {
     "name": "stdout",
     "output_type": "stream",
     "text": [
      "[('.', 3), ('The', 2), ('Eyes', 1)]\n"
     ]
    }
   ],
   "source": [
    "print(fq.most_common(3))"
   ]
  },
  {
   "cell_type": "code",
   "execution_count": null,
   "id": "48488cc0-bf8a-4311-acd6-271a838be12b",
   "metadata": {},
   "outputs": [],
   "source": []
  }
 ],
 "metadata": {
  "kernelspec": {
   "display_name": "Python 3 (ipykernel)",
   "language": "python",
   "name": "python3"
  },
  "language_info": {
   "codemirror_mode": {
    "name": "ipython",
    "version": 3
   },
   "file_extension": ".py",
   "mimetype": "text/x-python",
   "name": "python",
   "nbconvert_exporter": "python",
   "pygments_lexer": "ipython3",
   "version": "3.11.2"
  }
 },
 "nbformat": 4,
 "nbformat_minor": 5
}
