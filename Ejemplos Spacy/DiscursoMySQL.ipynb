{
 "cells": [
  {
   "cell_type": "code",
   "execution_count": 19,
   "id": "5254ad40-87be-40e5-b91f-fdc7eb5077ec",
   "metadata": {},
   "outputs": [],
   "source": [
    "# Importar los módulos necesarios\n",
    "import spacy\n",
    "import os\n",
    "import glob\n",
    "import json\n",
    "import re\n",
    "import mysql.connector"
   ]
  },
  {
   "cell_type": "code",
   "execution_count": 20,
   "id": "7e0173da-f8c7-4770-b6ed-39c9a9eea5cb",
   "metadata": {},
   "outputs": [],
   "source": [
    "# Establecer la conexión a la base de datos MySQL\n",
    "mydb = mysql.connector.connect(\n",
    "  host=\"localhost\",\n",
    "  user=\"juan\",\n",
    "  password=\"juan\",\n",
    "  database=\"Practicum\"\n",
    ")"
   ]
  },
  {
   "cell_type": "code",
   "execution_count": 21,
   "id": "c7423cbf-4caa-444a-b3f6-b73c3f5796a8",
   "metadata": {},
   "outputs": [],
   "source": [
    "# Cursor para ejecutar consultas SQL\n",
    "mycursor = mydb.cursor()"
   ]
  },
  {
   "cell_type": "code",
   "execution_count": 22,
   "id": "0ec27952-0896-41b2-a001-1ec862379c9c",
   "metadata": {},
   "outputs": [],
   "source": [
    "# Ruta del directorio de textos\n",
    "dir_path = 'data'"
   ]
  },
  {
   "cell_type": "code",
   "execution_count": 23,
   "id": "2a2b4744-3782-49d0-89ff-4282c38b3a27",
   "metadata": {},
   "outputs": [],
   "source": [
    "# Obtener todos los archivos .txt en el directorio\n",
    "txt_files = glob.glob(os.path.join(dir_path, '*.txt'))"
   ]
  },
  {
   "cell_type": "code",
   "execution_count": 24,
   "id": "a29b11e9-2bfe-49a1-a671-2e2bd5f1a44a",
   "metadata": {},
   "outputs": [],
   "source": [
    "# Cargar el modelo de spaCy\n",
    "nlp = spacy.load(\"es_core_news_sm\")"
   ]
  },
  {
   "cell_type": "code",
   "execution_count": 26,
   "id": "7b9aaae6-8f3d-4b82-ad2e-677e8aac7685",
   "metadata": {},
   "outputs": [],
   "source": [
    "# Lista para almacenar nombres de archivos ya insertados\n",
    "archivos_insertados = []"
   ]
  },
  {
   "cell_type": "code",
   "execution_count": 27,
   "id": "e290ed25-5bc9-4304-a8b8-c7f8976f10a9",
   "metadata": {},
   "outputs": [],
   "source": [
    "# Procesar cada archivo de texto\n",
    "for path in txt_files:\n",
    "    # Obtener el nombre del archivo\n",
    "    nombre_archivo = os.path.basename(path)\n",
    "    \n",
    "    # Verificar si el nombre del archivo ya ha sido insertado\n",
    "    if nombre_archivo in archivos_insertados:\n",
    "        continue  # Si ya está insertado, continuar con el siguiente archivo\n",
    "    \n",
    "    archivos_insertados.append(nombre_archivo)  # Agregar a la lista de insertados\n",
    "    \n",
    "    # Leer el contenido del archivo\n",
    "    with open(path, 'r', encoding='utf-8') as file:\n",
    "        texto = file.read()\n",
    "\n",
    "    doc = nlp(texto)\n",
    "\n",
    "    # Insertar el nombre del archivo en la tabla Archivo (solo si no existe)\n",
    "    try:\n",
    "        sql_archivo = \"INSERT INTO Archivo (nombre_archivo) VALUES (%s)\"\n",
    "        mycursor.execute(sql_archivo, (nombre_archivo,))\n",
    "        mydb.commit()  # Hacer commit para asegurar la inserción\n",
    "        id_archivo = mycursor.lastrowid\n",
    "        \n",
    "        # Procesar frases nominales y preparar datos\n",
    "        for frase in doc.noun_chunks:\n",
    "            frase_sin_puntuacion = re.sub(r'[^\\w\\s]', '', frase.text).strip()\n",
    "            palabras = [token.text for token in frase if not token.is_punct and not token.is_space]\n",
    "            \n",
    "            # Insertar la frase en la tabla Frases usando el ID de Archivo\n",
    "            sql_frase = \"INSERT INTO Frases (id_archivo, frase) VALUES (%s, %s)\"\n",
    "            frase_values = (id_archivo, frase_sin_puntuacion)\n",
    "            mycursor.execute(sql_frase, frase_values)\n",
    "            id_frase = mycursor.lastrowid\n",
    "            \n",
    "            # Insertar las palabras en la tabla Palabras y la relación en Frases_palabras\n",
    "            for palabra in palabras:\n",
    "                try:\n",
    "                    # Verificar si la palabra ya existe en Palabras para esta frase\n",
    "                    sql_select_palabra = \"SELECT id_palabra FROM Palabras WHERE palabra = %s AND id_frase = %s\"\n",
    "                    palabra_values = (palabra, id_frase)\n",
    "                    mycursor.execute(sql_select_palabra, palabra_values)\n",
    "                    result = mycursor.fetchone()\n",
    "                    \n",
    "                    if result:\n",
    "                        id_palabra = result[0]\n",
    "                    else:\n",
    "                        # Insertar la palabra en Palabras si no existe\n",
    "                        sql_insert_palabra = \"INSERT INTO Palabras (palabra, id_frase) VALUES (%s, %s)\"\n",
    "                        mycursor.execute(sql_insert_palabra, (palabra, id_frase))\n",
    "                        id_palabra = mycursor.lastrowid\n",
    "                    \n",
    "                    # No se necesita insertar en Frases_palabras porque ahora Palabras tiene referencia directa a Frases\n",
    "                    # Si se requiere, sería algo como:\n",
    "                    # sql_relacion = \"INSERT INTO Frases_palabras (id_palabra, id_frase) VALUES (%s, %s)\"\n",
    "                    # relacion_values = (id_palabra, id_frase)\n",
    "                    # mycursor.execute(sql_relacion, relacion_values)\n",
    "                \n",
    "                except mysql.connector.Error as error:\n",
    "                    print(f\"Error: {error}\")\n",
    "            \n",
    "            # Commit para guardar los cambios de cada frase\n",
    "            mydb.commit()\n",
    "\n",
    "    except mysql.connector.Error as error:\n",
    "        print(f\"Error: {error}\")"
   ]
  },
  {
   "cell_type": "code",
   "execution_count": 28,
   "id": "e103b8cf-b92f-4bfc-bf73-a752c5c0faca",
   "metadata": {},
   "outputs": [],
   "source": [
    "# Cerrar la conexión al finalizar\n",
    "mydb.close()"
   ]
  },
  {
   "cell_type": "code",
   "execution_count": null,
   "id": "a52795b8-abde-47b2-a3eb-7408cbf7cbec",
   "metadata": {},
   "outputs": [],
   "source": []
  }
 ],
 "metadata": {
  "kernelspec": {
   "display_name": "Python 3 (ipykernel)",
   "language": "python",
   "name": "python3"
  },
  "language_info": {
   "codemirror_mode": {
    "name": "ipython",
    "version": 3
   },
   "file_extension": ".py",
   "mimetype": "text/x-python",
   "name": "python",
   "nbconvert_exporter": "python",
   "pygments_lexer": "ipython3",
   "version": "3.12.3"
  }
 },
 "nbformat": 4,
 "nbformat_minor": 5
}
