{
 "cells": [
  {
   "cell_type": "code",
   "execution_count": 1,
   "id": "dc108019-db0a-497c-a3a3-d17759738733",
   "metadata": {},
   "outputs": [],
   "source": [
    "# Importar los módulos\n",
    "import spacy \n",
    "import csv\n",
    "import os\n",
    "import glob\n",
    "from pymongo import MongoClient"
   ]
  },
  {
   "cell_type": "code",
   "execution_count": 2,
   "id": "fc376aa2-df8d-44e3-8879-a03e7cb471ac",
   "metadata": {},
   "outputs": [],
   "source": [
    "# Ruta del directorio de textos\n",
    "dir_path = 'data'"
   ]
  },
  {
   "cell_type": "code",
   "execution_count": 3,
   "id": "44f246e0-94ca-4929-8cd5-ec7382bb7123",
   "metadata": {},
   "outputs": [],
   "source": [
    "# Obtener todos los archivos .txt en el directorio\n",
    "txt_files = glob.glob(os.path.join(dir_path, '*.txt'))"
   ]
  },
  {
   "cell_type": "code",
   "execution_count": 4,
   "id": "0846ed0b-5fa3-4f3f-b622-8d6aa0d78181",
   "metadata": {},
   "outputs": [],
   "source": [
    "# cargar el corpus\n",
    "nlp = spacy.load(\"es_core_news_sm\")"
   ]
  },
  {
   "cell_type": "code",
   "execution_count": 5,
   "id": "f1f1a498-2e56-44d5-bb10-6d3dbecfdd1b",
   "metadata": {},
   "outputs": [],
   "source": [
    "#Conectarme a la base de datos local\n",
    "client = MongoClient('mongodb://localhost:27017/')  \n",
    "db = client['Practicum'] #Nombre de la base de datos\n",
    "collection = db['frases_nominales'] #Nombre de la coleccion a la que se agregan los datos"
   ]
  },
  {
   "cell_type": "code",
   "execution_count": 12,
   "id": "209ac94f-a881-4f4d-90de-d57c0c4f303f",
   "metadata": {},
   "outputs": [
    {
     "name": "stdout",
     "output_type": "stream",
     "text": [
      "Datos del archivo Discurso.txt insertados correctamente.\n",
      "Datos del archivo MalalaYousafzai.txt insertados correctamente.\n",
      "Datos del archivo MarthinLutherKing.txt insertados correctamente.\n",
      "Datos del archivo NelsonMandela.txt insertados correctamente.\n"
     ]
    }
   ],
   "source": [
    "# Procesar cada archivo de texto\n",
    "for path in txt_files:\n",
    "    # Leer el contenido del archivo\n",
    "    with open(path, 'r', encoding='utf-8') as file:\n",
    "        texto = file.read()\n",
    "\n",
    "    #Tokenizar el archivo \n",
    "    doc = nlp(texto)\n",
    "    \n",
    "    # Extraer frases nominales\n",
    "    frases_nominales = list(doc.noun_chunks)\n",
    "\n",
    "    # Extraer frases nominales y concatenarlas con una coma\n",
    "    frases_nominales_concatenadas = ', '.join([frase.text for frase in doc.noun_chunks])\n",
    "    \n",
    "    # Preparar los datos en formato JSON\n",
    "    datos_json = {\n",
    "        'archivo': os.path.basename(path),\n",
    "        'frases_nominales': frases_nominales_concatenadas\n",
    "    }\n",
    "\n",
    "    # Insertar el documento en la colección de MongoDB\n",
    "    try:\n",
    "        collection.insert_one(datos_json)\n",
    "        print(f'Datos del archivo {os.path.basename(path)} insertados correctamente.')\n",
    "    except Exception as e:\n",
    "        print(f'Error al insertar datos del archivo {os.path.basename(path)}: {e}')"
   ]
  },
  {
   "cell_type": "code",
   "execution_count": null,
   "id": "02b49985-6db9-40ca-b268-5404508fc6f9",
   "metadata": {},
   "outputs": [],
   "source": []
  }
 ],
 "metadata": {
  "kernelspec": {
   "display_name": "Python 3 (ipykernel)",
   "language": "python",
   "name": "python3"
  },
  "language_info": {
   "codemirror_mode": {
    "name": "ipython",
    "version": 3
   },
   "file_extension": ".py",
   "mimetype": "text/x-python",
   "name": "python",
   "nbconvert_exporter": "python",
   "pygments_lexer": "ipython3",
   "version": "3.12.3"
  }
 },
 "nbformat": 4,
 "nbformat_minor": 5
}
