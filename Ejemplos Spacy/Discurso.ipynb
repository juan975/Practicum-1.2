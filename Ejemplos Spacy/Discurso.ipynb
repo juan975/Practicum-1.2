{
 "cells": [
  {
   "cell_type": "code",
   "execution_count": 45,
   "id": "dc108019-db0a-497c-a3a3-d17759738733",
   "metadata": {},
   "outputs": [],
   "source": [
    "import spacy \n",
    "from docx import Document"
   ]
  },
  {
   "cell_type": "code",
   "execution_count": 46,
   "id": "fc376aa2-df8d-44e3-8879-a03e7cb471ac",
   "metadata": {},
   "outputs": [],
   "source": [
    "nlp = spacy.load('es_core_news_sm')\n",
    "file_path = 'data/Discurso.docx'"
   ]
  },
  {
   "cell_type": "code",
   "execution_count": 47,
   "id": "257497b6-0371-43c4-b7a3-0261bfe1fb80",
   "metadata": {},
   "outputs": [],
   "source": [
    "doc = Document(file_path)\n",
    "full_text = []\n",
    "for para in doc.paragraphs:\n",
    "    full_text.append(para.text)\n",
    "discurso = '\\n'.join(full_text)"
   ]
  },
  {
   "cell_type": "code",
   "execution_count": 48,
   "id": "0846ed0b-5fa3-4f3f-b622-8d6aa0d78181",
   "metadata": {},
   "outputs": [],
   "source": [
    "doc_spacy = nlp(discurso)"
   ]
  },
  {
   "cell_type": "code",
   "execution_count": 49,
   "id": "60c17efe-c04f-420f-9e27-6c71bf7fd8e3",
   "metadata": {},
   "outputs": [],
   "source": [
    "oraciones_importantes = []\n",
    "for sent in doc_spacy.sents:\n",
    "    if \"Q\" in sent.text:\n",
    "        filtered_words = [token.text for token in sent if not token.is_stop and not token.is_punct]\n",
    "        filtered_sentence = ' '.join(filtered_words)\n",
    "        oraciones_importantes.append(filtered_sentence)"
   ]
  },
  {
   "cell_type": "code",
   "execution_count": 50,
   "id": "8016b25a-4714-450c-835c-f4e6c2961845",
   "metadata": {},
   "outputs": [],
   "source": [
    "doc_result = Document()"
   ]
  },
  {
   "cell_type": "code",
   "execution_count": 51,
   "id": "f16e7a53-c6a5-4240-9ba5-8d6c20f42dae",
   "metadata": {},
   "outputs": [],
   "source": [
    "for sentence in oraciones_importantes:\n",
    "    doc_result.add_paragraph(sentence)"
   ]
  },
  {
   "cell_type": "code",
   "execution_count": 52,
   "id": "b2fe89f8-8507-4d54-91d5-3ccb996e7597",
   "metadata": {},
   "outputs": [],
   "source": [
    "output_path = 'data/Discurso_procesado.docx'\n",
    "doc_result.save(output_path)"
   ]
  },
  {
   "cell_type": "code",
   "execution_count": null,
   "id": "93d0f059-c262-4815-80bc-c1ed15a3b09d",
   "metadata": {},
   "outputs": [],
   "source": []
  },
  {
   "cell_type": "code",
   "execution_count": null,
   "id": "8350159f-2518-41b2-a22f-45a8833d4fe2",
   "metadata": {},
   "outputs": [],
   "source": []
  }
 ],
 "metadata": {
  "kernelspec": {
   "display_name": "Python 3 (ipykernel)",
   "language": "python",
   "name": "python3"
  },
  "language_info": {
   "codemirror_mode": {
    "name": "ipython",
    "version": 3
   },
   "file_extension": ".py",
   "mimetype": "text/x-python",
   "name": "python",
   "nbconvert_exporter": "python",
   "pygments_lexer": "ipython3",
   "version": "3.11.2"
  }
 },
 "nbformat": 4,
 "nbformat_minor": 5
}
