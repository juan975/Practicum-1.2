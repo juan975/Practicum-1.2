{
 "cells": [
  {
   "cell_type": "code",
   "execution_count": 1,
   "id": "dc108019-db0a-497c-a3a3-d17759738733",
   "metadata": {},
   "outputs": [],
   "source": [
    "# Importar los módulos\n",
    "import spacy \n",
    "import csv\n",
    "import os\n",
    "import glob"
   ]
  },
  {
   "cell_type": "code",
   "execution_count": 2,
   "id": "fc376aa2-df8d-44e3-8879-a03e7cb471ac",
   "metadata": {},
   "outputs": [],
   "source": [
    "# Ruta del directorio de textos\n",
    "dir_path = 'data'"
   ]
  },
  {
   "cell_type": "code",
   "execution_count": 3,
   "id": "44f246e0-94ca-4929-8cd5-ec7382bb7123",
   "metadata": {},
   "outputs": [],
   "source": [
    "# Obtener todos los archivos .txt en el directorio\n",
    "txt_files = glob.glob(os.path.join(dir_path, '*.txt'))"
   ]
  },
  {
   "cell_type": "code",
   "execution_count": 7,
   "id": "0846ed0b-5fa3-4f3f-b622-8d6aa0d78181",
   "metadata": {},
   "outputs": [],
   "source": [
    "# cargar el corpus\n",
    "nlp = spacy.load(\"es_core_news_sm\")"
   ]
  },
  {
   "cell_type": "code",
   "execution_count": 8,
   "id": "209ac94f-a881-4f4d-90de-d57c0c4f303f",
   "metadata": {},
   "outputs": [],
   "source": [
    "# Procesar cada archivo de texto\n",
    "for path in txt_files:\n",
    "    # Leer el contenido del archivo\n",
    "    with open(path, 'r', encoding='utf-8') as file:\n",
    "        texto = file.read()\n",
    "\n",
    "    #Tokenizar el archivo \n",
    "    doc = nlp(texto)\n",
    "    \n",
    "    # Extraer frases nominales\n",
    "    frases_nominales = list(doc.noun_chunks)\n",
    "\n",
    "    # Obtener el nombre base del archivo sin extensión\n",
    "    base_name = os.path.basename(path)\n",
    "    file_name, _ = os.path.splitext(base_name)\n",
    "\n",
    "    # Definir la ruta al archivo CSV en el mismo directorio con un nombre basado en el archivo de texto\n",
    "    ruta_csv = os.path.join(dir_path, f'frases_nominales_{file_name}.csv')\n",
    "\n",
    "    # Escribir las palabras en el archivo CSV\n",
    "    with open(ruta_csv, 'w', newline='', encoding='utf-8') as archivo_csv:\n",
    "        escritor_csv = csv.writer(archivo_csv)\n",
    "        escritor_csv.writerow(['Palabra'])  # Encabezado\n",
    "        for frase in frases_nominales:\n",
    "            for token in frase:\n",
    "                # Verificar que el token no sea un signo de puntuación o espacio en blanco\n",
    "                if not token.is_punct and not token.is_space:\n",
    "                    escritor_csv.writerow([token.text])"
   ]
  },
  {
   "cell_type": "code",
   "execution_count": null,
   "id": "02b49985-6db9-40ca-b268-5404508fc6f9",
   "metadata": {},
   "outputs": [],
   "source": []
  }
 ],
 "metadata": {
  "kernelspec": {
   "display_name": "Python 3 (ipykernel)",
   "language": "python",
   "name": "python3"
  },
  "language_info": {
   "codemirror_mode": {
    "name": "ipython",
    "version": 3
   },
   "file_extension": ".py",
   "mimetype": "text/x-python",
   "name": "python",
   "nbconvert_exporter": "python",
   "pygments_lexer": "ipython3",
   "version": "3.12.3"
  }
 },
 "nbformat": 4,
 "nbformat_minor": 5
}
