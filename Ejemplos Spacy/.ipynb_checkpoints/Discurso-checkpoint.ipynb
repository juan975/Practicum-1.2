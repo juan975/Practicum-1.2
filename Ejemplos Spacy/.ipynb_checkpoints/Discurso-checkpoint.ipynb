{
 "cells": [
  {
   "cell_type": "code",
   "execution_count": 148,
   "id": "dc108019-db0a-497c-a3a3-d17759738733",
   "metadata": {},
   "outputs": [],
   "source": [
    "# Importar los módulos\n",
    "import spacy \n",
    "import csv\n",
    "import os"
   ]
  },
  {
   "cell_type": "code",
   "execution_count": 149,
   "id": "fc376aa2-df8d-44e3-8879-a03e7cb471ac",
   "metadata": {},
   "outputs": [],
   "source": [
    "# Ruta del texto\n",
    "path= 'data/demo.txt'"
   ]
  },
  {
   "cell_type": "code",
   "execution_count": 150,
   "id": "257497b6-0371-43c4-b7a3-0261bfe1fb80",
   "metadata": {},
   "outputs": [],
   "source": [
    "# Leer el contenido del archivo\n",
    "with open(path, 'r', encoding='utf-8') as file:\n",
    "    texto = file.read()"
   ]
  },
  {
   "cell_type": "code",
   "execution_count": 151,
   "id": "0846ed0b-5fa3-4f3f-b622-8d6aa0d78181",
   "metadata": {},
   "outputs": [],
   "source": [
    "# cargar el corpus\n",
    "nlp = spacy.load(\"es_core_news_sm\")"
   ]
  },
  {
   "cell_type": "code",
   "execution_count": 152,
   "id": "5bf09727-dad1-4140-a22e-b93e161bac7c",
   "metadata": {},
   "outputs": [],
   "source": [
    "doc = nlp(texto)"
   ]
  },
  {
   "cell_type": "code",
   "execution_count": 153,
   "id": "60c17efe-c04f-420f-9e27-6c71bf7fd8e3",
   "metadata": {},
   "outputs": [
    {
     "name": "stdout",
     "output_type": "stream",
     "text": [
      "Palabra\n",
      "Palabra\n",
      "Palabra\n",
      "Muy\n",
      "buenas\n",
      "tardes\n",
      "Señor\n",
      "alcalde\n",
      "Pabel\n",
      "un\n",
      "gusto\n",
      "todos\n",
      "nuestros\n",
      "ministros\n",
      "todo\n",
      "su\n",
      "equipo\n",
      "todo\n",
      "el\n",
      "equipo\n",
      "Municipio\n",
      "Algunas\n",
      "caras\n",
      "la\n",
      "Asamblea\n",
      "una\n",
      "gran\n",
      "admiración\n",
      "su\n",
      "equipo\n",
      "la\n",
      "gente\n",
      "Gracias\n",
      "Quito\n",
      "Gracias\n",
      "Quito\n",
      "El\n",
      "apoyo\n",
      "que\n",
      "la\n",
      "ciudad\n",
      "cada\n",
      "uno\n",
      "sus\n",
      "rincones\n",
      "los\n",
      "días\n",
      "campaña\n",
      "las\n",
      "cosas\n",
      "la\n",
      "república\n",
      "mi\n",
      "corazón\n",
      "el\n",
      "resto\n",
      "la\n",
      "paz\n",
      "el\n",
      "resto\n",
      "la\n",
      "nación\n",
      "una\n",
      "vez\n",
      "su\n",
      "atención\n",
      "Agradecerles\n",
      "este\n",
      "detalle\n",
      "como\n",
      "la\n",
      "ciudad\n",
      "gracias\n"
     ]
    }
   ],
   "source": [
    "# Extraer frases nominales\n",
    "frases_nominales = list(doc.noun_chunks)\n",
    "for frase in frases_nominales:\n",
    "    print(frase.text)"
   ]
  },
  {
   "cell_type": "code",
   "execution_count": 154,
   "id": "b45beb3d-fa38-457c-803e-45353205d254",
   "metadata": {},
   "outputs": [],
   "source": [
    "# Obtener el directorio del archivo de texto\n",
    "directorio_texto = os.path.dirname(os.path.abspath(path))"
   ]
  },
  {
   "cell_type": "code",
   "execution_count": 155,
   "id": "24133b0a-834d-4303-b277-ef4139dd72b8",
   "metadata": {},
   "outputs": [],
   "source": [
    "# Definir la ruta al archivo CSV en el mismo directorio\n",
    "ruta_csv = os.path.join(directorio_texto, 'frases_nominales.csv')"
   ]
  },
  {
   "cell_type": "code",
   "execution_count": 156,
   "id": "f16e7a53-c6a5-4240-9ba5-8d6c20f42dae",
   "metadata": {},
   "outputs": [],
   "source": [
    "# Escribir las palabras en el archivo CSV\n",
    "with open(ruta_csv, 'w', newline='', encoding='utf-8') as archivo_csv:\n",
    "    escritor_csv = csv.writer(archivo_csv)\n",
    "    escritor_csv.writerow(['Palabra'])  # Encabezado\n",
    "    for frase in frases_nominales:\n",
    "        for token in frase:\n",
    "            # Verificar que el token no sea un signo de puntuación o espacio en blanco\n",
    "            if not token.is_punct and not token.is_space:\n",
    "                escritor_csv.writerow([token.text])"
   ]
  },
  {
   "cell_type": "code",
   "execution_count": null,
   "id": "b2fe89f8-8507-4d54-91d5-3ccb996e7597",
   "metadata": {},
   "outputs": [],
   "source": []
  },
  {
   "cell_type": "code",
   "execution_count": null,
   "id": "93d0f059-c262-4815-80bc-c1ed15a3b09d",
   "metadata": {},
   "outputs": [],
   "source": []
  },
  {
   "cell_type": "code",
   "execution_count": null,
   "id": "8350159f-2518-41b2-a22f-45a8833d4fe2",
   "metadata": {},
   "outputs": [],
   "source": []
  }
 ],
 "metadata": {
  "kernelspec": {
   "display_name": "Python 3 (ipykernel)",
   "language": "python",
   "name": "python3"
  },
  "language_info": {
   "codemirror_mode": {
    "name": "ipython",
    "version": 3
   },
   "file_extension": ".py",
   "mimetype": "text/x-python",
   "name": "python",
   "nbconvert_exporter": "python",
   "pygments_lexer": "ipython3",
   "version": "3.11.2"
  }
 },
 "nbformat": 4,
 "nbformat_minor": 5
}
