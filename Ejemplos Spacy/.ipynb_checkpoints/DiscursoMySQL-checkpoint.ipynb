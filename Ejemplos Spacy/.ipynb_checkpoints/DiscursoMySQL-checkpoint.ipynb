{
 "cells": [
  {
   "cell_type": "code",
   "execution_count": 1,
   "id": "5254ad40-87be-40e5-b91f-fdc7eb5077ec",
   "metadata": {},
   "outputs": [
    {
     "ename": "ModuleNotFoundError",
     "evalue": "No module named 'mysql'",
     "output_type": "error",
     "traceback": [
      "\u001b[1;31m---------------------------------------------------------------------------\u001b[0m",
      "\u001b[1;31mModuleNotFoundError\u001b[0m                       Traceback (most recent call last)",
      "Cell \u001b[1;32mIn[1], line 7\u001b[0m\n\u001b[0;32m      5\u001b[0m \u001b[38;5;28;01mimport\u001b[39;00m \u001b[38;5;21;01mjson\u001b[39;00m\n\u001b[0;32m      6\u001b[0m \u001b[38;5;28;01mimport\u001b[39;00m \u001b[38;5;21;01mre\u001b[39;00m\n\u001b[1;32m----> 7\u001b[0m \u001b[38;5;28;01mimport\u001b[39;00m \u001b[38;5;21;01mmysql\u001b[39;00m\u001b[38;5;21;01m.\u001b[39;00m\u001b[38;5;21;01mconnector\u001b[39;00m\n",
      "\u001b[1;31mModuleNotFoundError\u001b[0m: No module named 'mysql'"
     ]
    }
   ],
   "source": [
    "# Importar los módulos necesarios\n",
    "import spacy\n",
    "import os\n",
    "import glob\n",
    "import json\n",
    "import re\n",
    "import mysql.connector"
   ]
  },
  {
   "cell_type": "code",
   "execution_count": null,
   "id": "7e0173da-f8c7-4770-b6ed-39c9a9eea5cb",
   "metadata": {},
   "outputs": [],
   "source": [
    "# Establecer la conexión a la base de datos MySQL\n",
    "mydb = mysql.connector.connect(\n",
    "  host=\"localhost\",\n",
    "  user=\"juan\",\n",
    "  password=\"juan\",\n",
    "  database=\"Practicum\"\n",
    ")"
   ]
  },
  {
   "cell_type": "code",
   "execution_count": null,
   "id": "c7423cbf-4caa-444a-b3f6-b73c3f5796a8",
   "metadata": {},
   "outputs": [],
   "source": [
    "# Cursor para ejecutar consultas SQL\n",
    "mycursor = mydb.cursor()"
   ]
  },
  {
   "cell_type": "code",
   "execution_count": null,
   "id": "0ec27952-0896-41b2-a001-1ec862379c9c",
   "metadata": {},
   "outputs": [],
   "source": [
    "# Ruta del directorio de textos\n",
    "dir_path = 'data'"
   ]
  },
  {
   "cell_type": "code",
   "execution_count": null,
   "id": "2a2b4744-3782-49d0-89ff-4282c38b3a27",
   "metadata": {},
   "outputs": [],
   "source": [
    "# Obtener todos los archivos .txt en el directorio\n",
    "txt_files = glob.glob(os.path.join(dir_path, '*.txt'))"
   ]
  },
  {
   "cell_type": "code",
   "execution_count": null,
   "id": "a29b11e9-2bfe-49a1-a671-2e2bd5f1a44a",
   "metadata": {},
   "outputs": [],
   "source": [
    "# Cargar el modelo de spaCy\n",
    "nlp = spacy.load(\"es_core_news_sm\")"
   ]
  },
  {
   "cell_type": "code",
   "execution_count": null,
   "id": "e290ed25-5bc9-4304-a8b8-c7f8976f10a9",
   "metadata": {},
   "outputs": [],
   "source": [
    "# Procesar cada archivo de texto\n",
    "for path in txt_files:\n",
    "    # Leer el contenido del archivo\n",
    "    with open(path, 'r', encoding='utf-8') as file:\n",
    "        texto = file.read()\n",
    "\n",
    "    doc = nlp(texto)\n",
    "\n",
    "    # Extraer frases nominales y preparar datos\n",
    "    datos_sql = []\n",
    "    for frase in doc.noun_chunks:\n",
    "        frase_sin_puntuacion = re.sub(r'[^\\w\\s]', '', frase.text).strip()\n",
    "        palabras = [token.text for token in frase if not token.is_punct and not token.is_space]\n",
    "        \n",
    "        # Insertar la frase en la tabla Archivo y obtener el ID generado\n",
    "        sql_archivo = \"INSERT INTO Archivo (nombre_archivo) VALUES (%s)\"\n",
    "        archivo_values = (os.path.basename(path),)\n",
    "        mycursor.execute(sql_archivo, archivo_values)\n",
    "        id_archivo = mycursor.lastrowid\n",
    "        \n",
    "        # Insertar la frase en la tabla Frases usando el ID de Archivo\n",
    "        sql_frase = \"INSERT INTO Frases (id_archivo, frase) VALUES (%s, %s)\"\n",
    "        frase_values = (id_archivo, frase_sin_puntuacion)\n",
    "        mycursor.execute(sql_frase, frase_values)\n",
    "        id_frase = mycursor.lastrowid\n",
    "        \n",
    "        # Insertar las palabras en la tabla Palabras y la relación en Frases_palabras\n",
    "        for palabra in palabras:\n",
    "            # Insertar la palabra en la tabla Palabras\n",
    "            sql_palabra = \"INSERT IGNORE INTO Palabras (palabra) VALUES (%s)\"\n",
    "            palabra_values = (palabra,)\n",
    "            mycursor.execute(sql_palabra, palabra_values)\n",
    "            id_palabra = mycursor.lastrowid\n",
    "            \n",
    "            # Insertar la relación en la tabla Frases_palabras\n",
    "            sql_relacion = \"INSERT INTO Frases_palabras (id_palabra, id_frase) VALUES (%s, %s)\"\n",
    "            relacion_values = (id_palabra, id_frase)\n",
    "            mycursor.execute(sql_relacion, relacion_values)\n",
    "        \n",
    "        # Commit para guardar los cambios de cada archivo\n",
    "        mydb.commit()"
   ]
  },
  {
   "cell_type": "code",
   "execution_count": null,
   "id": "e103b8cf-b92f-4bfc-bf73-a752c5c0faca",
   "metadata": {},
   "outputs": [],
   "source": [
    "# Cerrar la conexión al finalizar\n",
    "mydb.close()"
   ]
  }
 ],
 "metadata": {
  "kernelspec": {
   "display_name": "Python 3 (ipykernel)",
   "language": "python",
   "name": "python3"
  },
  "language_info": {
   "codemirror_mode": {
    "name": "ipython",
    "version": 3
   },
   "file_extension": ".py",
   "mimetype": "text/x-python",
   "name": "python",
   "nbconvert_exporter": "python",
   "pygments_lexer": "ipython3",
   "version": "3.12.3"
  }
 },
 "nbformat": 4,
 "nbformat_minor": 5
}
