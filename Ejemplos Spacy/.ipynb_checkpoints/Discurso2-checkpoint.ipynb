{
 "cells": [
  {
   "cell_type": "code",
   "execution_count": 1,
   "id": "30c8bed9-bf92-4f3e-8837-9929ef8db9e8",
   "metadata": {},
   "outputs": [],
   "source": [
    "# Importar los módulos\n",
    "import spacy\n",
    "import os\n",
    "import glob\n",
    "import json\n",
    "from pymongo import MongoClient"
   ]
  },
  {
   "cell_type": "code",
   "execution_count": 2,
   "id": "3f29a6ac-7a98-4e9f-9820-7a737d4fcdc7",
   "metadata": {},
   "outputs": [],
   "source": [
    "# Ruta del directorio de textos\n",
    "dir_path = 'data'"
   ]
  },
  {
   "cell_type": "code",
   "execution_count": 3,
   "id": "1bfe2829-9df9-448c-a13c-2fda63611cda",
   "metadata": {},
   "outputs": [],
   "source": [
    "# Obtener todos los archivos .txt en el directorio\n",
    "txt_files = glob.glob(os.path.join(dir_path, '*.txt'))"
   ]
  },
  {
   "cell_type": "code",
   "execution_count": 4,
   "id": "004e2a10-505b-4121-9639-e0079c3f8d37",
   "metadata": {},
   "outputs": [],
   "source": [
    "# Cargar el modelo de spaCy\n",
    "nlp = spacy.load(\"es_core_news_sm\")"
   ]
  },
  {
   "cell_type": "code",
   "execution_count": 5,
   "id": "0f2c16ba-69a4-4573-a56c-f752208db54b",
   "metadata": {},
   "outputs": [],
   "source": [
    "# Conectarse a la base de datos MongoDB\n",
    "client = MongoClient('mongodb://localhost:27017/')  # Cambia la URL según sea necesario\n",
    "db = client['Practicum'] #Nombre de la base de datos\n",
    "collection = db['frases_nominales2']"
   ]
  },
  {
   "cell_type": "code",
   "execution_count": 9,
   "id": "c6add99d-5736-4735-9495-e5ff450bd0bb",
   "metadata": {},
   "outputs": [],
   "source": [
    "# Procesar cada archivo de texto\n",
    "for path in txt_files:\n",
    "    # Leer el contenido del archivo\n",
    "    with open(path, 'r', encoding='utf-8') as file:\n",
    "        texto = file.read()\n",
    "\n",
    "    doc = nlp(texto)\n",
    "\n",
    "    # Extraer frases nominales\n",
    "    frases_nominales = list(doc.noun_chunks)\n",
    "    \n",
    "    # Preparar los datos en formato JSON\n",
    "    datos_json = []\n",
    "    for frase in frases_nominales:\n",
    "        if not token.is_punct and not token.is_space:\n",
    "            datos_json.append({\n",
    "                'archivo': os.path.basename(path),\n",
    "                'frase_nominal': frase.text\n",
    "                })\n",
    "\n",
    "    # Insertar los datos en la colección de MongoDB\n",
    "    if datos_json:\n",
    "        collection.insert_many(datos_json)"
   ]
  },
  {
   "cell_type": "code",
   "execution_count": null,
   "id": "8855864b-61f6-4096-ba43-50600d400ea2",
   "metadata": {},
   "outputs": [],
   "source": []
  }
 ],
 "metadata": {
  "kernelspec": {
   "display_name": "Python 3 (ipykernel)",
   "language": "python",
   "name": "python3"
  },
  "language_info": {
   "codemirror_mode": {
    "name": "ipython",
    "version": 3
   },
   "file_extension": ".py",
   "mimetype": "text/x-python",
   "name": "python",
   "nbconvert_exporter": "python",
   "pygments_lexer": "ipython3",
   "version": "3.12.3"
  }
 },
 "nbformat": 4,
 "nbformat_minor": 5
}
